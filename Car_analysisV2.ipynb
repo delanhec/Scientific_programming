{
 "cells": [
  {
   "cell_type": "markdown",
   "id": "b72fdbc5",
   "metadata": {},
   "source": [
    "# Scientific Programming Final Project"
   ]
  },
  {
   "cell_type": "markdown",
   "id": "00f160c0",
   "metadata": {},
   "source": [
    "## Using function to read csv file"
   ]
  },
  {
   "cell_type": "code",
   "execution_count": 11,
   "id": "85f0f0ec",
   "metadata": {},
   "outputs": [],
   "source": [
    "import pandas as pd #import pandas library \n",
    "\n",
    "def read_csv(file): #function that reads a csv file using pandas\n",
    "    data =  pd.read_csv(file)\n",
    "    return data\n"
   ]
  },
  {
   "cell_type": "code",
   "execution_count": 12,
   "id": "89f502e2",
   "metadata": {
    "scrolled": true
   },
   "outputs": [
    {
     "name": "stdout",
     "output_type": "stream",
     "text": [
      "<class 'pandas.core.frame.DataFrame'>\n",
      "RangeIndex: 72435 entries, 0 to 72434\n",
      "Data columns (total 10 columns):\n",
      " #   Column        Non-Null Count  Dtype  \n",
      "---  ------        --------------  -----  \n",
      " 0   model         72435 non-null  object \n",
      " 1   year          72435 non-null  int64  \n",
      " 2   price         72435 non-null  int64  \n",
      " 3   transmission  72435 non-null  object \n",
      " 4   mileage       72435 non-null  int64  \n",
      " 5   fuelType      72435 non-null  object \n",
      " 6   tax           72435 non-null  float64\n",
      " 7   mpg           72435 non-null  float64\n",
      " 8   engineSize    72435 non-null  float64\n",
      " 9   Make          72435 non-null  object \n",
      "dtypes: float64(3), int64(3), object(4)\n",
      "memory usage: 5.5+ MB\n"
     ]
    }
   ],
   "source": [
    "cars = read_csv('cars_dataset.csv') #read the csv file by calling the function read_csv\n",
    "cars.info() #get general information from each column in the dataset (datatypes, and number of non-nulls)"
   ]
  },
  {
   "cell_type": "code",
   "execution_count": 13,
   "id": "d3ea277f",
   "metadata": {
    "scrolled": true
   },
   "outputs": [
    {
     "data": {
      "text/html": [
       "<div>\n",
       "<style scoped>\n",
       "    .dataframe tbody tr th:only-of-type {\n",
       "        vertical-align: middle;\n",
       "    }\n",
       "\n",
       "    .dataframe tbody tr th {\n",
       "        vertical-align: top;\n",
       "    }\n",
       "\n",
       "    .dataframe thead th {\n",
       "        text-align: right;\n",
       "    }\n",
       "</style>\n",
       "<table border=\"1\" class=\"dataframe\">\n",
       "  <thead>\n",
       "    <tr style=\"text-align: right;\">\n",
       "      <th></th>\n",
       "      <th>model</th>\n",
       "      <th>year</th>\n",
       "      <th>price</th>\n",
       "      <th>transmission</th>\n",
       "      <th>mileage</th>\n",
       "      <th>fuelType</th>\n",
       "      <th>tax</th>\n",
       "      <th>mpg</th>\n",
       "      <th>engineSize</th>\n",
       "      <th>Make</th>\n",
       "    </tr>\n",
       "  </thead>\n",
       "  <tbody>\n",
       "    <tr>\n",
       "      <th>0</th>\n",
       "      <td>A1</td>\n",
       "      <td>2017</td>\n",
       "      <td>12500</td>\n",
       "      <td>Manual</td>\n",
       "      <td>15735</td>\n",
       "      <td>Petrol</td>\n",
       "      <td>150.0</td>\n",
       "      <td>55.4</td>\n",
       "      <td>1.4</td>\n",
       "      <td>audi</td>\n",
       "    </tr>\n",
       "    <tr>\n",
       "      <th>1</th>\n",
       "      <td>A6</td>\n",
       "      <td>2016</td>\n",
       "      <td>16500</td>\n",
       "      <td>Automatic</td>\n",
       "      <td>36203</td>\n",
       "      <td>Diesel</td>\n",
       "      <td>20.0</td>\n",
       "      <td>64.2</td>\n",
       "      <td>2.0</td>\n",
       "      <td>audi</td>\n",
       "    </tr>\n",
       "    <tr>\n",
       "      <th>2</th>\n",
       "      <td>A1</td>\n",
       "      <td>2016</td>\n",
       "      <td>11000</td>\n",
       "      <td>Manual</td>\n",
       "      <td>29946</td>\n",
       "      <td>Petrol</td>\n",
       "      <td>30.0</td>\n",
       "      <td>55.4</td>\n",
       "      <td>1.4</td>\n",
       "      <td>audi</td>\n",
       "    </tr>\n",
       "    <tr>\n",
       "      <th>3</th>\n",
       "      <td>A4</td>\n",
       "      <td>2017</td>\n",
       "      <td>16800</td>\n",
       "      <td>Automatic</td>\n",
       "      <td>25952</td>\n",
       "      <td>Diesel</td>\n",
       "      <td>145.0</td>\n",
       "      <td>67.3</td>\n",
       "      <td>2.0</td>\n",
       "      <td>audi</td>\n",
       "    </tr>\n",
       "    <tr>\n",
       "      <th>4</th>\n",
       "      <td>A3</td>\n",
       "      <td>2019</td>\n",
       "      <td>17300</td>\n",
       "      <td>Manual</td>\n",
       "      <td>1998</td>\n",
       "      <td>Petrol</td>\n",
       "      <td>145.0</td>\n",
       "      <td>49.6</td>\n",
       "      <td>1.0</td>\n",
       "      <td>audi</td>\n",
       "    </tr>\n",
       "  </tbody>\n",
       "</table>\n",
       "</div>"
      ],
      "text/plain": [
       "  model  year  price transmission  mileage fuelType    tax   mpg  engineSize  \\\n",
       "0    A1  2017  12500       Manual    15735   Petrol  150.0  55.4         1.4   \n",
       "1    A6  2016  16500    Automatic    36203   Diesel   20.0  64.2         2.0   \n",
       "2    A1  2016  11000       Manual    29946   Petrol   30.0  55.4         1.4   \n",
       "3    A4  2017  16800    Automatic    25952   Diesel  145.0  67.3         2.0   \n",
       "4    A3  2019  17300       Manual     1998   Petrol  145.0  49.6         1.0   \n",
       "\n",
       "   Make  \n",
       "0  audi  \n",
       "1  audi  \n",
       "2  audi  \n",
       "3  audi  \n",
       "4  audi  "
      ]
     },
     "execution_count": 13,
     "metadata": {},
     "output_type": "execute_result"
    }
   ],
   "source": [
    "cars.head() #show first 5 rows of dataframe"
   ]
  },
  {
   "cell_type": "markdown",
   "id": "279cb1aa",
   "metadata": {},
   "source": [
    "## Descriptive Statistics"
   ]
  },
  {
   "cell_type": "code",
   "execution_count": 14,
   "id": "59b1cf4b",
   "metadata": {
    "scrolled": true
   },
   "outputs": [
    {
     "data": {
      "text/html": [
       "<div>\n",
       "<style scoped>\n",
       "    .dataframe tbody tr th:only-of-type {\n",
       "        vertical-align: middle;\n",
       "    }\n",
       "\n",
       "    .dataframe tbody tr th {\n",
       "        vertical-align: top;\n",
       "    }\n",
       "\n",
       "    .dataframe thead th {\n",
       "        text-align: right;\n",
       "    }\n",
       "</style>\n",
       "<table border=\"1\" class=\"dataframe\">\n",
       "  <thead>\n",
       "    <tr style=\"text-align: right;\">\n",
       "      <th></th>\n",
       "      <th>year</th>\n",
       "      <th>price</th>\n",
       "      <th>mileage</th>\n",
       "      <th>tax</th>\n",
       "      <th>mpg</th>\n",
       "      <th>engineSize</th>\n",
       "    </tr>\n",
       "  </thead>\n",
       "  <tbody>\n",
       "    <tr>\n",
       "      <th>count</th>\n",
       "      <td>72435.000000</td>\n",
       "      <td>72435.000000</td>\n",
       "      <td>72435.000000</td>\n",
       "      <td>72435.000000</td>\n",
       "      <td>72435.000000</td>\n",
       "      <td>72435.000000</td>\n",
       "    </tr>\n",
       "    <tr>\n",
       "      <th>mean</th>\n",
       "      <td>2017.073666</td>\n",
       "      <td>16580.158708</td>\n",
       "      <td>23176.517057</td>\n",
       "      <td>116.953407</td>\n",
       "      <td>55.852480</td>\n",
       "      <td>1.635650</td>\n",
       "    </tr>\n",
       "    <tr>\n",
       "      <th>std</th>\n",
       "      <td>2.101252</td>\n",
       "      <td>9299.028754</td>\n",
       "      <td>21331.515562</td>\n",
       "      <td>64.045533</td>\n",
       "      <td>17.114391</td>\n",
       "      <td>0.561535</td>\n",
       "    </tr>\n",
       "    <tr>\n",
       "      <th>min</th>\n",
       "      <td>1996.000000</td>\n",
       "      <td>495.000000</td>\n",
       "      <td>1.000000</td>\n",
       "      <td>0.000000</td>\n",
       "      <td>0.300000</td>\n",
       "      <td>0.000000</td>\n",
       "    </tr>\n",
       "    <tr>\n",
       "      <th>25%</th>\n",
       "      <td>2016.000000</td>\n",
       "      <td>10175.000000</td>\n",
       "      <td>7202.500000</td>\n",
       "      <td>30.000000</td>\n",
       "      <td>47.900000</td>\n",
       "      <td>1.200000</td>\n",
       "    </tr>\n",
       "    <tr>\n",
       "      <th>50%</th>\n",
       "      <td>2017.000000</td>\n",
       "      <td>14495.000000</td>\n",
       "      <td>17531.000000</td>\n",
       "      <td>145.000000</td>\n",
       "      <td>55.400000</td>\n",
       "      <td>1.600000</td>\n",
       "    </tr>\n",
       "    <tr>\n",
       "      <th>75%</th>\n",
       "      <td>2019.000000</td>\n",
       "      <td>20361.000000</td>\n",
       "      <td>32449.000000</td>\n",
       "      <td>145.000000</td>\n",
       "      <td>62.800000</td>\n",
       "      <td>2.000000</td>\n",
       "    </tr>\n",
       "    <tr>\n",
       "      <th>max</th>\n",
       "      <td>2020.000000</td>\n",
       "      <td>145000.000000</td>\n",
       "      <td>323000.000000</td>\n",
       "      <td>580.000000</td>\n",
       "      <td>470.800000</td>\n",
       "      <td>6.600000</td>\n",
       "    </tr>\n",
       "  </tbody>\n",
       "</table>\n",
       "</div>"
      ],
      "text/plain": [
       "               year          price        mileage           tax           mpg  \\\n",
       "count  72435.000000   72435.000000   72435.000000  72435.000000  72435.000000   \n",
       "mean    2017.073666   16580.158708   23176.517057    116.953407     55.852480   \n",
       "std        2.101252    9299.028754   21331.515562     64.045533     17.114391   \n",
       "min     1996.000000     495.000000       1.000000      0.000000      0.300000   \n",
       "25%     2016.000000   10175.000000    7202.500000     30.000000     47.900000   \n",
       "50%     2017.000000   14495.000000   17531.000000    145.000000     55.400000   \n",
       "75%     2019.000000   20361.000000   32449.000000    145.000000     62.800000   \n",
       "max     2020.000000  145000.000000  323000.000000    580.000000    470.800000   \n",
       "\n",
       "         engineSize  \n",
       "count  72435.000000  \n",
       "mean       1.635650  \n",
       "std        0.561535  \n",
       "min        0.000000  \n",
       "25%        1.200000  \n",
       "50%        1.600000  \n",
       "75%        2.000000  \n",
       "max        6.600000  "
      ]
     },
     "execution_count": 14,
     "metadata": {},
     "output_type": "execute_result"
    }
   ],
   "source": [
    "#get only quantitative attributes in a dataframe\n",
    "quant_cars = cars[['year','price','mileage','tax','mpg','engineSize']]\n",
    "quant_cars.describe() #get descriptive statistics of the numerical attrbutes "
   ]
  },
  {
   "cell_type": "code",
   "execution_count": 15,
   "id": "38a8b3a4",
   "metadata": {},
   "outputs": [
    {
     "data": {
      "image/png": "[encoded data removed]",
      "text/plain": [
       "<Figure size 1440x720 with 6 Axes>"
      ]
     },
     "metadata": {
      "needs_background": "light"
     },
     "output_type": "display_data"
    }
   ],
   "source": [
    "import matplotlib.pyplot as plt #import matplotlib library \n",
    "\n",
    "\n",
    "row = 2\n",
    "col = 3\n",
    "x,y,z =0,0,0\n",
    "#define a figure with 2*3 subplots, specify de gifure size for each subplot\n",
    "fig, ax= plt.subplots(row,col, figsize=(20,10), sharex=False,sharey='row')\n",
    "\n",
    "while x<row: #fill each subplot with quantitative data of the dataset \n",
    "    while y<col:\n",
    "        ax[x,y].hist(quant_cars.iloc[:,z]) #create histogram for each column in quant_cars\n",
    "        ax[x,y].set_title(quant_cars.iloc[:,z].name, fontsize = 14) #assign title of subplot based on attribute\n",
    "        y+=1\n",
    "        z+=1\n",
    "    y=0\n",
    "    x+=1"
   ]
  },
  {
   "cell_type": "markdown",
   "id": "f21ed53c",
   "metadata": {},
   "source": [
    "## Qualitative analysis"
   ]
  },
  {
   "cell_type": "code",
   "execution_count": 16,
   "id": "98bb078e",
   "metadata": {
    "scrolled": true
   },
   "outputs": [
    {
     "data": {
      "text/html": [
       "<div>\n",
       "<style scoped>\n",
       "    .dataframe tbody tr th:only-of-type {\n",
       "        vertical-align: middle;\n",
       "    }\n",
       "\n",
       "    .dataframe tbody tr th {\n",
       "        vertical-align: top;\n",
       "    }\n",
       "\n",
       "    .dataframe thead th {\n",
       "        text-align: right;\n",
       "    }\n",
       "</style>\n",
       "<table border=\"1\" class=\"dataframe\">\n",
       "  <thead>\n",
       "    <tr style=\"text-align: right;\">\n",
       "      <th></th>\n",
       "      <th>model</th>\n",
       "      <th>transmission</th>\n",
       "      <th>fuelType</th>\n",
       "      <th>Make</th>\n",
       "    </tr>\n",
       "  </thead>\n",
       "  <tbody>\n",
       "    <tr>\n",
       "      <th>count</th>\n",
       "      <td>72435</td>\n",
       "      <td>72435</td>\n",
       "      <td>72435</td>\n",
       "      <td>72435</td>\n",
       "    </tr>\n",
       "    <tr>\n",
       "      <th>unique</th>\n",
       "      <td>146</td>\n",
       "      <td>4</td>\n",
       "      <td>5</td>\n",
       "      <td>7</td>\n",
       "    </tr>\n",
       "    <tr>\n",
       "      <th>top</th>\n",
       "      <td>Fiesta</td>\n",
       "      <td>Manual</td>\n",
       "      <td>Petrol</td>\n",
       "      <td>Ford</td>\n",
       "    </tr>\n",
       "    <tr>\n",
       "      <th>freq</th>\n",
       "      <td>6556</td>\n",
       "      <td>43021</td>\n",
       "      <td>40370</td>\n",
       "      <td>17964</td>\n",
       "    </tr>\n",
       "  </tbody>\n",
       "</table>\n",
       "</div>"
      ],
      "text/plain": [
       "          model transmission fuelType   Make\n",
       "count     72435        72435    72435  72435\n",
       "unique      146            4        5      7\n",
       "top      Fiesta       Manual   Petrol   Ford\n",
       "freq       6556        43021    40370  17964"
      ]
     },
     "execution_count": 16,
     "metadata": {},
     "output_type": "execute_result"
    }
   ],
   "source": [
    "#get only qualitative attributes in a dataframe\n",
    "qual_cars = cars[['model','transmission','fuelType','Make']]\n",
    "qual_cars.describe() #get ddescription of the qualitative attributes"
   ]
  },
  {
   "cell_type": "code",
   "execution_count": 26,
   "id": "efd8bfd8",
   "metadata": {},
   "outputs": [
    {
     "data": {
      "text/plain": [
       "Ford       17964\n",
       "vw         15157\n",
       "BMW        10781\n",
       "audi       10668\n",
       "toyota      6738\n",
       "skoda       6267\n",
       "Hyundai     4860\n",
       "Name: Make, dtype: int64"
      ]
     },
     "execution_count": 26,
     "metadata": {},
     "output_type": "execute_result"
    }
   ],
   "source": [
    "qual_cars.groupby('Make').count()\n",
    "qual_cars['Make'].value_counts()"
   ]
  },
  {
   "cell_type": "code",
   "execution_count": 64,
   "id": "faa585ac",
   "metadata": {},
   "outputs": [
    {
     "data": {
      "image/png": "[encoded data removed]",
      "text/plain": [
       "<Figure size 1008x576 with 1 Axes>"
      ]
     },
     "metadata": {
      "needs_background": "light"
     },
     "output_type": "display_data"
    }
   ],
   "source": [
    "ax = qual_cars['model'].value_counts()[:20].plot(kind='barh',\n",
    "                                    figsize=(14,8),\n",
    "                                    title=\"Top 20 models\")\n",
    "\n"
   ]
  },
  {
   "cell_type": "code",
   "execution_count": 65,
   "id": "ceb65069",
   "metadata": {},
   "outputs": [
    {
     "data": {
      "text/plain": [
       "<AxesSubplot:title={'center':'Manufacturer'}>"
      ]
     },
     "execution_count": 65,
     "metadata": {},
     "output_type": "execute_result"
    },
    {
     "data": {
      "image/png": "[encoded data removed]",
      "text/plain": [
       "<Figure size 1008x576 with 3 Axes>"
      ]
     },
     "metadata": {
      "needs_background": "light"
     },
     "output_type": "display_data"
    }
   ],
   "source": [
    "\n",
    "fig = plt.figure(figsize=(9, 6))\n",
    "\n",
    "plt.subplots_adjust(wspace= 0.75, hspace= 0.75)\n",
    "\n",
    "sub1 = fig.add_subplot(2,2,1) # two rows, two columns, fist cell\n",
    "qual_cars['transmission'].value_counts().plot(kind='bar',\n",
    "                                    figsize=(14,8),\n",
    "                                    title=\"Transmission\")\n",
    "\n",
    "sub2 = fig.add_subplot(2,2,2) # two rows, two columns, second cell\n",
    "qual_cars['fuelType'].value_counts().plot(kind='bar',\n",
    "                                    figsize=(14,8),\n",
    "                                    title=\"Fuel Type\")\n",
    "\n",
    "# Create third axes, a combination of third and fourth cell\n",
    "sub3 = fig.add_subplot(2,2,(3,4)) # two rows, two colums, combined third and fourth cell\n",
    "qual_cars['Make'].value_counts().plot(kind='barh',\n",
    "                                    figsize=(14,8),\n",
    "                                    title=\"Manufacturer\")\n"
   ]
  },
  {
   "cell_type": "code",
   "execution_count": null,
   "id": "4acec117",
   "metadata": {},
   "outputs": [],
   "source": []
  }
 ],
 "metadata": {
  "kernelspec": {
   "display_name": "Python 3 (ipykernel)",
   "language": "python",
   "name": "python3"
  },
  "language_info": {
   "codemirror_mode": {
    "name": "ipython",
    "version": 3
   },
   "file_extension": ".py",
   "mimetype": "text/x-python",
   "name": "python",
   "nbconvert_exporter": "python",
   "pygments_lexer": "ipython3",
   "version": "3.9.7"
  }
 },
 "nbformat": 4,
 "nbformat_minor": 5
}
